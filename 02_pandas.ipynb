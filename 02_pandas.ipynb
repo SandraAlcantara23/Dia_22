{
 "cells": [
  {
   "cell_type": "markdown",
   "id": "22c1263d",
   "metadata": {},
   "source": [
    "# intoduccion a pandas \n",
    "[pandas] (https://pandas.pydata.org/)\n",
    "es una libreria que propociona estructuras de dasdos y herrsmientas de analisis de datos de alto rendimiento y faciles de usar \n",
    "* la estructura de objectos principal es el DataFrame, que puede considerarse como una tabla 2D en memoria (como una hoja de calculo, con nombres de columna y etiquetas de fila\n",
    "* muchas funciones disponibles en excel , estan disponibles mediante programacion , como crear tablas dinamicas , calcular columnas basadas en otras colu,mnas , trazar graficos ,etc\n",
    "* proporcionan un alto rendimiento para manipular (unir , dividir , modificar..) grandes conjuntos de datos "
   ]
  },
  {
   "cell_type": "markdown",
   "id": "d7b95ac6",
   "metadata": {},
   "source": [
    "## import"
   ]
  },
  {
   "cell_type": "code",
   "execution_count": 1,
   "id": "e21b6cfe",
   "metadata": {},
   "outputs": [],
   "source": [
    "import pandas as pd"
   ]
  },
  {
   "cell_type": "markdown",
   "id": "ca09d637",
   "metadata": {},
   "source": [
    "## estructura de datos en pandas."
   ]
  },
  {
   "cell_type": "markdown",
   "id": "b3430ee7",
   "metadata": {},
   "source": [
    "la libreria pandas , de ,manera genrica contiene las siguientes estrcturas de datos :\n",
    "\n",
    "* series **series**: array cde una dimencion \n",
    "* **dataFrame**: se corresponde con una tabla de 2 dimenciones \n",
    "* **panel**: similar a un diccionario de DataFrames"
   ]
  },
  {
   "cell_type": "markdown",
   "id": "229660b2",
   "metadata": {},
   "source": [
    "## creacion de un objeto Series "
   ]
  },
  {
   "cell_type": "code",
   "execution_count": 2,
   "id": "b02e04eb",
   "metadata": {},
   "outputs": [
    {
     "name": "stdout",
     "output_type": "stream",
     "text": [
      "0     2\n",
      "1     4\n",
      "2     6\n",
      "3     8\n",
      "4    10\n",
      "dtype: int64\n"
     ]
    }
   ],
   "source": [
    "# creacion de un objeto Series \n",
    "s = pd.Series([2,4,6,8,10])\n",
    "print(s)"
   ]
  },
  {
   "cell_type": "code",
   "execution_count": 3,
   "id": "86a92d7d",
   "metadata": {},
   "outputs": [
    {
     "name": "stdout",
     "output_type": "stream",
     "text": [
      "fabiola    174\n",
      "pamela     145\n",
      "dtype: int64\n"
     ]
    }
   ],
   "source": [
    "# crear un objeto series e iniciarlo con algunos \n",
    "#elementos de un diccionario de python\n",
    "Altura = {\"pispireto\": 178, \"fabiola\" : 174, \"chino\" : 170, \"pamela\" : 145}\n",
    "s = pd.Series(Altura , index = [\"fabiola\",\"pamela\"])\n",
    "print(s)"
   ]
  },
  {
   "cell_type": "code",
   "execution_count": 4,
   "id": "9ffd7d04",
   "metadata": {},
   "outputs": [
    {
     "name": "stdout",
     "output_type": "stream",
     "text": [
      "pispireto    178\n",
      "fabiola      174\n",
      "chino        170\n",
      "pamela       145\n",
      "dtype: int64\n"
     ]
    }
   ],
   "source": [
    "s = pd.Series(Altura)\n",
    "print (s)"
   ]
  },
  {
   "cell_type": "code",
   "execution_count": 5,
   "id": "594b33d5",
   "metadata": {},
   "outputs": [
    {
     "name": "stdout",
     "output_type": "stream",
     "text": [
      "test1    34\n",
      "test2    34\n",
      "test3    34\n",
      "dtype: int64\n"
     ]
    }
   ],
   "source": [
    "#crear un objeto serie e iniciarlo con un scalar\n",
    "s = pd.Series(34, [\"test1\" , \"test2\" , \"test3\"])\n",
    "print (s)"
   ]
  },
  {
   "cell_type": "markdown",
   "id": "3e4139e0",
   "metadata": {},
   "source": [
    "## acceso a los elementos de un objeto series \n",
    "cada elemento en un objeto series tiene un identificador unico que se denomina **index label**"
   ]
  },
  {
   "cell_type": "code",
   "execution_count": 6,
   "id": "9b5e72f7",
   "metadata": {},
   "outputs": [
    {
     "name": "stdout",
     "output_type": "stream",
     "text": [
      "num1    2\n",
      "num2    4\n",
      "num3    6\n",
      "num4    8\n",
      "dtype: int64\n"
     ]
    }
   ],
   "source": [
    "#crear un un objeto Series \n",
    "s = pd.Series([2,4,6,8], index = [\"num1\" , \"num2\" , \"num3\" , \"num4\"])\n",
    "print(s)"
   ]
  },
  {
   "cell_type": "code",
   "execution_count": 7,
   "id": "c6fb2150",
   "metadata": {},
   "outputs": [
    {
     "data": {
      "text/plain": [
       "6"
      ]
     },
     "execution_count": 7,
     "metadata": {},
     "output_type": "execute_result"
    }
   ],
   "source": [
    "# acceder al 3er elento del objeto sries \n",
    "s[\"num3\"]"
   ]
  },
  {
   "cell_type": "code",
   "execution_count": 8,
   "id": "ebd078bf",
   "metadata": {},
   "outputs": [
    {
     "data": {
      "text/plain": [
       "6"
      ]
     },
     "execution_count": 8,
     "metadata": {},
     "output_type": "execute_result"
    }
   ],
   "source": [
    "#tambien se puede acceder por posicion \n",
    "s[2]"
   ]
  },
  {
   "cell_type": "code",
   "execution_count": 9,
   "id": "f517e2b2",
   "metadata": {},
   "outputs": [
    {
     "data": {
      "text/plain": [
       "6"
      ]
     },
     "execution_count": 9,
     "metadata": {},
     "output_type": "execute_result"
    }
   ],
   "source": [
    "# loc es la forma adecuada de acceder a un elento de un objeto series\n",
    "s.loc[\"num3\"]"
   ]
  },
  {
   "cell_type": "code",
   "execution_count": 10,
   "id": "f30688eb",
   "metadata": {},
   "outputs": [
    {
     "data": {
      "text/plain": [
       "6"
      ]
     },
     "execution_count": 10,
     "metadata": {},
     "output_type": "execute_result"
    }
   ],
   "source": [
    "# iloc es la forma estandar de acceder a un elento de un objeto Series por posicion \n",
    "s.iloc[2]"
   ]
  },
  {
   "cell_type": "code",
   "execution_count": 11,
   "id": "cbdff657",
   "metadata": {},
   "outputs": [
    {
     "data": {
      "text/plain": [
       "num3    6\n",
       "num4    8\n",
       "dtype: int64"
      ]
     },
     "execution_count": 11,
     "metadata": {},
     "output_type": "execute_result"
    }
   ],
   "source": [
    "# accediendo al segundo y tercer elemento por posicion \n",
    "s.iloc[2:4]"
   ]
  },
  {
   "cell_type": "markdown",
   "id": "6dd4952f",
   "metadata": {},
   "source": [
    "## operaciones aritmeticas con series "
   ]
  },
  {
   "cell_type": "code",
   "execution_count": 12,
   "id": "f41763e1",
   "metadata": {},
   "outputs": [
    {
     "name": "stdout",
     "output_type": "stream",
     "text": [
      "0     2\n",
      "1     4\n",
      "2     6\n",
      "3     8\n",
      "4    10\n",
      "dtype: int64\n"
     ]
    }
   ],
   "source": [
    "# crear un objeto series \n",
    "s = pd.Series([2,4,6,8,10])\n",
    "print(s)"
   ]
  },
  {
   "cell_type": "code",
   "execution_count": 13,
   "id": "344a7bbc",
   "metadata": {},
   "outputs": [
    {
     "data": {
      "text/plain": [
       "30"
      ]
     },
     "execution_count": 13,
     "metadata": {},
     "output_type": "execute_result"
    }
   ],
   "source": [
    "# los objetos series son similares y compartibles con los arrays de Numpy\n",
    "import numpy as np\n",
    "# ufuc de numpy para sumar los elementos de un array \n",
    "np.sum(s)"
   ]
  },
  {
   "cell_type": "code",
   "execution_count": 14,
   "id": "74228587",
   "metadata": {},
   "outputs": [
    {
     "data": {
      "text/plain": [
       "0     4\n",
       "1     8\n",
       "2    12\n",
       "3    16\n",
       "4    20\n",
       "dtype: int64"
      ]
     },
     "execution_count": 14,
     "metadata": {},
     "output_type": "execute_result"
    }
   ],
   "source": [
    "# el resto de operaciones aritmenticas de numpy sobre arrays tambien  son posibles \n",
    "# para mas informacion al respecto dirijase a la introduccion de numpy\n",
    "s * 2 "
   ]
  },
  {
   "cell_type": "markdown",
   "id": "7463e09b",
   "metadata": {},
   "source": [
    "## Representacion de un objeto series "
   ]
  },
  {
   "cell_type": "code",
   "execution_count": 15,
   "id": "e7510960",
   "metadata": {},
   "outputs": [
    {
     "data": {
      "text/plain": [
       "0    30.5\n",
       "1    35.3\n",
       "2    36.7\n",
       "3    35.8\n",
       "4    34.2\n",
       "5    32.1\n",
       "6    32.3\n",
       "7    30.6\n",
       "8    28.8\n",
       "9    28.5\n",
       "Name: temperaturas jilo york , dtype: float64"
      ]
     },
     "execution_count": 15,
     "metadata": {},
     "output_type": "execute_result"
    }
   ],
   "source": [
    "# crar un objeto Series denominado temperaturas \n",
    "temperaturas = [30.5, 35.3, 36.7, 35.8, 34.2, 32.1, 32.3, 30.6, 28.8, 28.5]\n",
    "s = pd.Series (temperaturas, name = \"temperaturas jilo york \")\n",
    "s"
   ]
  },
  {
   "cell_type": "code",
   "execution_count": 16,
   "id": "a0f291aa",
   "metadata": {},
   "outputs": [
    {
     "data": {
      "image/png": "[encoded data removed]",
      "text/plain": [
       "<Figure size 640x480 with 1 Axes>"
      ]
     },
     "metadata": {},
     "output_type": "display_data"
    }
   ],
   "source": [
    "# representacion grafica del objeto Series \n",
    "%matplotlib inline\n",
    "import matplotlib.pyplot as plt\n",
    "s.plot()\n",
    "plt.show()"
   ]
  },
  {
   "cell_type": "markdown",
   "id": "94d1f18a",
   "metadata": {},
   "source": [
    "## creacion de un objeto llamado DataFrame"
   ]
  },
  {
   "cell_type": "code",
   "execution_count": 18,
   "id": "3f5a4508",
   "metadata": {},
   "outputs": [
    {
     "data": {
      "text/html": [
       "<div>\n",
       "<style scoped>\n",
       "    .dataframe tbody tr th:only-of-type {\n",
       "        vertical-align: middle;\n",
       "    }\n",
       "\n",
       "    .dataframe tbody tr th {\n",
       "        vertical-align: top;\n",
       "    }\n",
       "\n",
       "    .dataframe thead th {\n",
       "        text-align: right;\n",
       "    }\n",
       "</style>\n",
       "<table border=\"1\" class=\"dataframe\">\n",
       "  <thead>\n",
       "    <tr style=\"text-align: right;\">\n",
       "      <th></th>\n",
       "      <th>peso</th>\n",
       "      <th>altura</th>\n",
       "      <th>mascotas</th>\n",
       "    </tr>\n",
       "  </thead>\n",
       "  <tbody>\n",
       "    <tr>\n",
       "      <th>deportista</th>\n",
       "      <td>75</td>\n",
       "      <td>170</td>\n",
       "      <td>NaN</td>\n",
       "    </tr>\n",
       "    <tr>\n",
       "      <th>faby</th>\n",
       "      <td>63</td>\n",
       "      <td>180</td>\n",
       "      <td>3.0</td>\n",
       "    </tr>\n",
       "    <tr>\n",
       "      <th>lupita</th>\n",
       "      <td>68</td>\n",
       "      <td>168</td>\n",
       "      <td>NaN</td>\n",
       "    </tr>\n",
       "    <tr>\n",
       "      <th>nuevo</th>\n",
       "      <td>56</td>\n",
       "      <td>164</td>\n",
       "      <td>4.0</td>\n",
       "    </tr>\n",
       "  </tbody>\n",
       "</table>\n",
       "</div>"
      ],
      "text/plain": [
       "            peso  altura  mascotas\n",
       "deportista    75     170       NaN\n",
       "faby          63     180       3.0\n",
       "lupita        68     168       NaN\n",
       "nuevo         56     164       4.0"
      ]
     },
     "execution_count": 18,
     "metadata": {},
     "output_type": "execute_result"
    }
   ],
   "source": [
    "# crear un DataFreme e inicializarlo con un diccionario de objetos series \n",
    "personas = {\n",
    "    \"peso\": pd.Series([63,56,68,75], [\"faby\" , \"nuevo\" , \"lupita\" , \"deportista\"]),\n",
    "    \"altura\": pd.Series({\"faby\": 180, \"nuevo\": 164, \"lupita\": 168, \"deportista\": 170}),\n",
    "    \"mascotas\": pd.Series([3,4], [\"faby\", \"nuevo\"])\n",
    "}\n",
    "df = pd.DataFrame(personas)\n",
    "df"
   ]
  },
  {
   "cell_type": "markdown",
   "id": "a7878139",
   "metadata": {},
   "source": [
    "puede forarce a que presente ciertas columnas  en un orden determinado.\n"
   ]
  },
  {
   "cell_type": "code",
   "execution_count": 19,
   "id": "7aadf121",
   "metadata": {},
   "outputs": [
    {
     "data": {
      "text/html": [
       "<div>\n",
       "<style scoped>\n",
       "    .dataframe tbody tr th:only-of-type {\n",
       "        vertical-align: middle;\n",
       "    }\n",
       "\n",
       "    .dataframe tbody tr th {\n",
       "        vertical-align: top;\n",
       "    }\n",
       "\n",
       "    .dataframe thead th {\n",
       "        text-align: right;\n",
       "    }\n",
       "</style>\n",
       "<table border=\"1\" class=\"dataframe\">\n",
       "  <thead>\n",
       "    <tr style=\"text-align: right;\">\n",
       "      <th></th>\n",
       "      <th>altura</th>\n",
       "      <th>peso</th>\n",
       "    </tr>\n",
       "  </thead>\n",
       "  <tbody>\n",
       "    <tr>\n",
       "      <th>nuevo</th>\n",
       "      <td>164</td>\n",
       "      <td>56</td>\n",
       "    </tr>\n",
       "    <tr>\n",
       "      <th>deportista</th>\n",
       "      <td>170</td>\n",
       "      <td>75</td>\n",
       "    </tr>\n",
       "    <tr>\n",
       "      <th>faby</th>\n",
       "      <td>180</td>\n",
       "      <td>63</td>\n",
       "    </tr>\n",
       "  </tbody>\n",
       "</table>\n",
       "</div>"
      ],
      "text/plain": [
       "            altura  peso\n",
       "nuevo          164    56\n",
       "deportista     170    75\n",
       "faby           180    63"
      ]
     },
     "execution_count": 19,
     "metadata": {},
     "output_type": "execute_result"
    }
   ],
   "source": [
    "# crear un DataFrame inicializando con algunos elemntos de un diccionario \n",
    "# de objetos Series\n",
    "personas = {\n",
    "    \"peso\": pd.Series([63,56,68,75], [\"faby\" , \"nuevo\" , \"lupita\" , \"deportista\"]),\n",
    "    \"altura\": pd.Series({\"faby\": 180, \"nuevo\": 164, \"lupita\": 168, \"deportista\": 170}),\n",
    "    \"mascotas\": pd.Series([3,4], [\"faby\", \"nuevo\"])\n",
    "}\n",
    "df = pd.DataFrame(\n",
    "    personas,\n",
    "    columns = [\"altura\", \"peso\"],\n",
    "    index = [\"nuevo\", \"deportista\", \"faby\"])\n",
    "df"
   ]
  },
  {
   "cell_type": "markdown",
   "id": "b93fd3cd",
   "metadata": {},
   "source": [
    "## acceder a los elementos de un DataFrame"
   ]
  },
  {
   "cell_type": "code",
   "execution_count": 20,
   "id": "6642ba36",
   "metadata": {},
   "outputs": [
    {
     "data": {
      "text/html": [
       "<div>\n",
       "<style scoped>\n",
       "    .dataframe tbody tr th:only-of-type {\n",
       "        vertical-align: middle;\n",
       "    }\n",
       "\n",
       "    .dataframe tbody tr th {\n",
       "        vertical-align: top;\n",
       "    }\n",
       "\n",
       "    .dataframe thead th {\n",
       "        text-align: right;\n",
       "    }\n",
       "</style>\n",
       "<table border=\"1\" class=\"dataframe\">\n",
       "  <thead>\n",
       "    <tr style=\"text-align: right;\">\n",
       "      <th></th>\n",
       "      <th>peso</th>\n",
       "      <th>altura</th>\n",
       "      <th>mascotas</th>\n",
       "    </tr>\n",
       "  </thead>\n",
       "  <tbody>\n",
       "    <tr>\n",
       "      <th>deportista</th>\n",
       "      <td>75</td>\n",
       "      <td>170</td>\n",
       "      <td>NaN</td>\n",
       "    </tr>\n",
       "    <tr>\n",
       "      <th>faby</th>\n",
       "      <td>63</td>\n",
       "      <td>180</td>\n",
       "      <td>3.0</td>\n",
       "    </tr>\n",
       "    <tr>\n",
       "      <th>lupita</th>\n",
       "      <td>68</td>\n",
       "      <td>168</td>\n",
       "      <td>NaN</td>\n",
       "    </tr>\n",
       "    <tr>\n",
       "      <th>nuevo</th>\n",
       "      <td>56</td>\n",
       "      <td>164</td>\n",
       "      <td>4.0</td>\n",
       "    </tr>\n",
       "  </tbody>\n",
       "</table>\n",
       "</div>"
      ],
      "text/plain": [
       "            peso  altura  mascotas\n",
       "deportista    75     170       NaN\n",
       "faby          63     180       3.0\n",
       "lupita        68     168       NaN\n",
       "nuevo         56     164       4.0"
      ]
     },
     "execution_count": 20,
     "metadata": {},
     "output_type": "execute_result"
    }
   ],
   "source": [
    "# crear un DataFrame e inicializarlo con un diccionario de objetos series\n",
    "personas = {\n",
    "    \"peso\": pd.Series([63,56,68,75], [\"faby\" , \"nuevo\" , \"lupita\" , \"deportista\"]),\n",
    "    \"altura\": pd.Series({\"faby\": 180, \"nuevo\": 164, \"lupita\": 168, \"deportista\": 170}),\n",
    "    \"mascotas\": pd.Series([3,4], [\"faby\", \"nuevo\"])\n",
    "}\n",
    "df = pd.DataFrame(personas)\n",
    "df"
   ]
  },
  {
   "cell_type": "markdown",
   "id": "f00ec084",
   "metadata": {},
   "source": [
    "### acceder a los elementos de las columnas del DataFrame"
   ]
  },
  {
   "cell_type": "code",
   "execution_count": 21,
   "id": "94886342",
   "metadata": {},
   "outputs": [
    {
     "data": {
      "text/plain": [
       "deportista    75\n",
       "faby          63\n",
       "lupita        68\n",
       "nuevo         56\n",
       "Name: peso, dtype: int64"
      ]
     },
     "execution_count": 21,
     "metadata": {},
     "output_type": "execute_result"
    }
   ],
   "source": [
    "df[\"peso\"]"
   ]
  },
  {
   "cell_type": "code",
   "execution_count": 22,
   "id": "54a8f758",
   "metadata": {},
   "outputs": [
    {
     "data": {
      "text/html": [
       "<div>\n",
       "<style scoped>\n",
       "    .dataframe tbody tr th:only-of-type {\n",
       "        vertical-align: middle;\n",
       "    }\n",
       "\n",
       "    .dataframe tbody tr th {\n",
       "        vertical-align: top;\n",
       "    }\n",
       "\n",
       "    .dataframe thead th {\n",
       "        text-align: right;\n",
       "    }\n",
       "</style>\n",
       "<table border=\"1\" class=\"dataframe\">\n",
       "  <thead>\n",
       "    <tr style=\"text-align: right;\">\n",
       "      <th></th>\n",
       "      <th>peso</th>\n",
       "      <th>altura</th>\n",
       "    </tr>\n",
       "  </thead>\n",
       "  <tbody>\n",
       "    <tr>\n",
       "      <th>deportista</th>\n",
       "      <td>75</td>\n",
       "      <td>170</td>\n",
       "    </tr>\n",
       "    <tr>\n",
       "      <th>faby</th>\n",
       "      <td>63</td>\n",
       "      <td>180</td>\n",
       "    </tr>\n",
       "    <tr>\n",
       "      <th>lupita</th>\n",
       "      <td>68</td>\n",
       "      <td>168</td>\n",
       "    </tr>\n",
       "    <tr>\n",
       "      <th>nuevo</th>\n",
       "      <td>56</td>\n",
       "      <td>164</td>\n",
       "    </tr>\n",
       "  </tbody>\n",
       "</table>\n",
       "</div>"
      ],
      "text/plain": [
       "            peso  altura\n",
       "deportista    75     170\n",
       "faby          63     180\n",
       "lupita        68     168\n",
       "nuevo         56     164"
      ]
     },
     "execution_count": 22,
     "metadata": {},
     "output_type": "execute_result"
    }
   ],
   "source": [
    "df[[\"peso\", \"altura\"]]"
   ]
  },
  {
   "cell_type": "code",
   "execution_count": 24,
   "id": "089a7ff7",
   "metadata": {},
   "outputs": [
    {
     "data": {
      "text/plain": [
       "deportista     True\n",
       "faby          False\n",
       "lupita        False\n",
       "nuevo         False\n",
       "Name: peso, dtype: bool"
      ]
     },
     "execution_count": 24,
     "metadata": {},
     "output_type": "execute_result"
    }
   ],
   "source": [
    "# se puede combinar los metodos anteriores con expresiones booleanas \n",
    "df[\"peso\"]> 70"
   ]
  },
  {
   "cell_type": "markdown",
   "id": "baeac039",
   "metadata": {},
   "source": [
    "### acceder a los elementos de las filas del DataFrame"
   ]
  },
  {
   "cell_type": "code",
   "execution_count": 25,
   "id": "c176d90e",
   "metadata": {},
   "outputs": [
    {
     "data": {
      "text/html": [
       "<div>\n",
       "<style scoped>\n",
       "    .dataframe tbody tr th:only-of-type {\n",
       "        vertical-align: middle;\n",
       "    }\n",
       "\n",
       "    .dataframe tbody tr th {\n",
       "        vertical-align: top;\n",
       "    }\n",
       "\n",
       "    .dataframe thead th {\n",
       "        text-align: right;\n",
       "    }\n",
       "</style>\n",
       "<table border=\"1\" class=\"dataframe\">\n",
       "  <thead>\n",
       "    <tr style=\"text-align: right;\">\n",
       "      <th></th>\n",
       "      <th>peso</th>\n",
       "      <th>altura</th>\n",
       "      <th>mascotas</th>\n",
       "    </tr>\n",
       "  </thead>\n",
       "  <tbody>\n",
       "    <tr>\n",
       "      <th>deportista</th>\n",
       "      <td>75</td>\n",
       "      <td>170</td>\n",
       "      <td>NaN</td>\n",
       "    </tr>\n",
       "    <tr>\n",
       "      <th>faby</th>\n",
       "      <td>63</td>\n",
       "      <td>180</td>\n",
       "      <td>3.0</td>\n",
       "    </tr>\n",
       "    <tr>\n",
       "      <th>lupita</th>\n",
       "      <td>68</td>\n",
       "      <td>168</td>\n",
       "      <td>NaN</td>\n",
       "    </tr>\n",
       "    <tr>\n",
       "      <th>nuevo</th>\n",
       "      <td>56</td>\n",
       "      <td>164</td>\n",
       "      <td>4.0</td>\n",
       "    </tr>\n",
       "  </tbody>\n",
       "</table>\n",
       "</div>"
      ],
      "text/plain": [
       "            peso  altura  mascotas\n",
       "deportista    75     170       NaN\n",
       "faby          63     180       3.0\n",
       "lupita        68     168       NaN\n",
       "nuevo         56     164       4.0"
      ]
     },
     "execution_count": 25,
     "metadata": {},
     "output_type": "execute_result"
    }
   ],
   "source": [
    "# mostrar el DataFrame\n",
    "df"
   ]
  },
  {
   "cell_type": "code",
   "execution_count": 26,
   "id": "dad8f05a",
   "metadata": {},
   "outputs": [
    {
     "data": {
      "text/plain": [
       "peso         68.0\n",
       "altura      168.0\n",
       "mascotas      NaN\n",
       "Name: lupita, dtype: float64"
      ]
     },
     "execution_count": 26,
     "metadata": {},
     "output_type": "execute_result"
    }
   ],
   "source": [
    "df.loc[\"lupita\"]"
   ]
  },
  {
   "cell_type": "code",
   "execution_count": 27,
   "id": "412de853",
   "metadata": {},
   "outputs": [
    {
     "data": {
      "text/plain": [
       "peso         68.0\n",
       "altura      168.0\n",
       "mascotas      NaN\n",
       "Name: lupita, dtype: float64"
      ]
     },
     "execution_count": 27,
     "metadata": {},
     "output_type": "execute_result"
    }
   ],
   "source": [
    "df.iloc[2]"
   ]
  },
  {
   "cell_type": "code",
   "execution_count": 28,
   "id": "40154ca5",
   "metadata": {},
   "outputs": [
    {
     "data": {
      "text/html": [
       "<div>\n",
       "<style scoped>\n",
       "    .dataframe tbody tr th:only-of-type {\n",
       "        vertical-align: middle;\n",
       "    }\n",
       "\n",
       "    .dataframe tbody tr th {\n",
       "        vertical-align: top;\n",
       "    }\n",
       "\n",
       "    .dataframe thead th {\n",
       "        text-align: right;\n",
       "    }\n",
       "</style>\n",
       "<table border=\"1\" class=\"dataframe\">\n",
       "  <thead>\n",
       "    <tr style=\"text-align: right;\">\n",
       "      <th></th>\n",
       "      <th>peso</th>\n",
       "      <th>altura</th>\n",
       "      <th>mascotas</th>\n",
       "    </tr>\n",
       "  </thead>\n",
       "  <tbody>\n",
       "    <tr>\n",
       "      <th>faby</th>\n",
       "      <td>63</td>\n",
       "      <td>180</td>\n",
       "      <td>3.0</td>\n",
       "    </tr>\n",
       "    <tr>\n",
       "      <th>lupita</th>\n",
       "      <td>68</td>\n",
       "      <td>168</td>\n",
       "      <td>NaN</td>\n",
       "    </tr>\n",
       "  </tbody>\n",
       "</table>\n",
       "</div>"
      ],
      "text/plain": [
       "        peso  altura  mascotas\n",
       "faby      63     180       3.0\n",
       "lupita    68     168       NaN"
      ]
     },
     "execution_count": 28,
     "metadata": {},
     "output_type": "execute_result"
    }
   ],
   "source": [
    "df.iloc[1:3]"
   ]
  },
  {
   "cell_type": "markdown",
   "id": "cc986a7a",
   "metadata": {},
   "source": [
    "### consulta avanzada de los elementos de  un DataFrame "
   ]
  },
  {
   "cell_type": "code",
   "execution_count": 29,
   "id": "57cdda3c",
   "metadata": {},
   "outputs": [
    {
     "data": {
      "text/html": [
       "<div>\n",
       "<style scoped>\n",
       "    .dataframe tbody tr th:only-of-type {\n",
       "        vertical-align: middle;\n",
       "    }\n",
       "\n",
       "    .dataframe tbody tr th {\n",
       "        vertical-align: top;\n",
       "    }\n",
       "\n",
       "    .dataframe thead th {\n",
       "        text-align: right;\n",
       "    }\n",
       "</style>\n",
       "<table border=\"1\" class=\"dataframe\">\n",
       "  <thead>\n",
       "    <tr style=\"text-align: right;\">\n",
       "      <th></th>\n",
       "      <th>peso</th>\n",
       "      <th>altura</th>\n",
       "      <th>mascotas</th>\n",
       "    </tr>\n",
       "  </thead>\n",
       "  <tbody>\n",
       "    <tr>\n",
       "      <th>deportista</th>\n",
       "      <td>75</td>\n",
       "      <td>170</td>\n",
       "      <td>NaN</td>\n",
       "    </tr>\n",
       "    <tr>\n",
       "      <th>faby</th>\n",
       "      <td>63</td>\n",
       "      <td>180</td>\n",
       "      <td>3.0</td>\n",
       "    </tr>\n",
       "    <tr>\n",
       "      <th>lupita</th>\n",
       "      <td>68</td>\n",
       "      <td>168</td>\n",
       "      <td>NaN</td>\n",
       "    </tr>\n",
       "    <tr>\n",
       "      <th>nuevo</th>\n",
       "      <td>56</td>\n",
       "      <td>164</td>\n",
       "      <td>4.0</td>\n",
       "    </tr>\n",
       "  </tbody>\n",
       "</table>\n",
       "</div>"
      ],
      "text/plain": [
       "            peso  altura  mascotas\n",
       "deportista    75     170       NaN\n",
       "faby          63     180       3.0\n",
       "lupita        68     168       NaN\n",
       "nuevo         56     164       4.0"
      ]
     },
     "execution_count": 29,
     "metadata": {},
     "output_type": "execute_result"
    }
   ],
   "source": [
    "# mostrar el DataFrame\n",
    "df"
   ]
  },
  {
   "cell_type": "code",
   "execution_count": 34,
   "id": "a21314e5",
   "metadata": {},
   "outputs": [
    {
     "data": {
      "text/html": [
       "<div>\n",
       "<style scoped>\n",
       "    .dataframe tbody tr th:only-of-type {\n",
       "        vertical-align: middle;\n",
       "    }\n",
       "\n",
       "    .dataframe tbody tr th {\n",
       "        vertical-align: top;\n",
       "    }\n",
       "\n",
       "    .dataframe thead th {\n",
       "        text-align: right;\n",
       "    }\n",
       "</style>\n",
       "<table border=\"1\" class=\"dataframe\">\n",
       "  <thead>\n",
       "    <tr style=\"text-align: right;\">\n",
       "      <th></th>\n",
       "      <th>peso</th>\n",
       "      <th>altura</th>\n",
       "      <th>mascotas</th>\n",
       "    </tr>\n",
       "  </thead>\n",
       "  <tbody>\n",
       "    <tr>\n",
       "      <th>deportista</th>\n",
       "      <td>75</td>\n",
       "      <td>170</td>\n",
       "      <td>NaN</td>\n",
       "    </tr>\n",
       "    <tr>\n",
       "      <th>faby</th>\n",
       "      <td>63</td>\n",
       "      <td>180</td>\n",
       "      <td>3.0</td>\n",
       "    </tr>\n",
       "  </tbody>\n",
       "</table>\n",
       "</div>"
      ],
      "text/plain": [
       "            peso  altura  mascotas\n",
       "deportista    75     170       NaN\n",
       "faby          63     180       3.0"
      ]
     },
     "execution_count": 34,
     "metadata": {},
     "output_type": "execute_result"
    }
   ],
   "source": [
    "df.query(\"altura >= 170 and peso >= 60\")"
   ]
  },
  {
   "cell_type": "code",
   "execution_count": 35,
   "id": "fa742c47",
   "metadata": {},
   "outputs": [
    {
     "data": {
      "text/html": [
       "<div>\n",
       "<style scoped>\n",
       "    .dataframe tbody tr th:only-of-type {\n",
       "        vertical-align: middle;\n",
       "    }\n",
       "\n",
       "    .dataframe tbody tr th {\n",
       "        vertical-align: top;\n",
       "    }\n",
       "\n",
       "    .dataframe thead th {\n",
       "        text-align: right;\n",
       "    }\n",
       "</style>\n",
       "<table border=\"1\" class=\"dataframe\">\n",
       "  <thead>\n",
       "    <tr style=\"text-align: right;\">\n",
       "      <th></th>\n",
       "      <th>peso</th>\n",
       "      <th>altura</th>\n",
       "      <th>mascotas</th>\n",
       "    </tr>\n",
       "  </thead>\n",
       "  <tbody>\n",
       "    <tr>\n",
       "      <th>deportista</th>\n",
       "      <td>75</td>\n",
       "      <td>170</td>\n",
       "      <td>NaN</td>\n",
       "    </tr>\n",
       "    <tr>\n",
       "      <th>faby</th>\n",
       "      <td>63</td>\n",
       "      <td>180</td>\n",
       "      <td>3.0</td>\n",
       "    </tr>\n",
       "    <tr>\n",
       "      <th>lupita</th>\n",
       "      <td>68</td>\n",
       "      <td>168</td>\n",
       "      <td>NaN</td>\n",
       "    </tr>\n",
       "    <tr>\n",
       "      <th>nuevo</th>\n",
       "      <td>56</td>\n",
       "      <td>164</td>\n",
       "      <td>4.0</td>\n",
       "    </tr>\n",
       "  </tbody>\n",
       "</table>\n",
       "</div>"
      ],
      "text/plain": [
       "            peso  altura  mascotas\n",
       "deportista    75     170       NaN\n",
       "faby          63     180       3.0\n",
       "lupita        68     168       NaN\n",
       "nuevo         56     164       4.0"
      ]
     },
     "execution_count": 35,
     "metadata": {},
     "output_type": "execute_result"
    }
   ],
   "source": [
    "###\n",
    "personas = {\n",
    "    \"peso\": pd.Series([63,56,68,75], [\"faby\" , \"nuevo\" , \"lupita\" , \"deportista\"]),\n",
    "    \"altura\": pd.Series({\"faby\": 180, \"nuevo\": 164, \"lupita\": 168, \"deportista\": 170}),\n",
    "    \"mascotas\": pd.Series([3,4], [\"faby\", \"nuevo\"])\n",
    "}\n",
    "df = pd.DataFrame(personas)\n",
    "df"
   ]
  },
  {
   "cell_type": "code",
   "execution_count": 36,
   "id": "87b073f0",
   "metadata": {},
   "outputs": [],
   "source": [
    "# copia del DataFrame df en df-copy\n",
    "#nota: al modidicar de de-copy no se modificara df\n",
    "df_copy = df.copy()"
   ]
  },
  {
   "cell_type": "code",
   "execution_count": 37,
   "id": "1f653d57",
   "metadata": {},
   "outputs": [
    {
     "data": {
      "text/html": [
       "<div>\n",
       "<style scoped>\n",
       "    .dataframe tbody tr th:only-of-type {\n",
       "        vertical-align: middle;\n",
       "    }\n",
       "\n",
       "    .dataframe tbody tr th {\n",
       "        vertical-align: top;\n",
       "    }\n",
       "\n",
       "    .dataframe thead th {\n",
       "        text-align: right;\n",
       "    }\n",
       "</style>\n",
       "<table border=\"1\" class=\"dataframe\">\n",
       "  <thead>\n",
       "    <tr style=\"text-align: right;\">\n",
       "      <th></th>\n",
       "      <th>peso</th>\n",
       "      <th>altura</th>\n",
       "      <th>mascotas</th>\n",
       "    </tr>\n",
       "  </thead>\n",
       "  <tbody>\n",
       "    <tr>\n",
       "      <th>deportista</th>\n",
       "      <td>75</td>\n",
       "      <td>170</td>\n",
       "      <td>NaN</td>\n",
       "    </tr>\n",
       "    <tr>\n",
       "      <th>faby</th>\n",
       "      <td>63</td>\n",
       "      <td>180</td>\n",
       "      <td>3.0</td>\n",
       "    </tr>\n",
       "    <tr>\n",
       "      <th>lupita</th>\n",
       "      <td>68</td>\n",
       "      <td>168</td>\n",
       "      <td>NaN</td>\n",
       "    </tr>\n",
       "    <tr>\n",
       "      <th>nuevo</th>\n",
       "      <td>56</td>\n",
       "      <td>164</td>\n",
       "      <td>4.0</td>\n",
       "    </tr>\n",
       "  </tbody>\n",
       "</table>\n",
       "</div>"
      ],
      "text/plain": [
       "            peso  altura  mascotas\n",
       "deportista    75     170       NaN\n",
       "faby          63     180       3.0\n",
       "lupita        68     168       NaN\n",
       "nuevo         56     164       4.0"
      ]
     },
     "execution_count": 37,
     "metadata": {},
     "output_type": "execute_result"
    }
   ],
   "source": [
    "df_copy"
   ]
  },
  {
   "cell_type": "markdown",
   "id": "01373969",
   "metadata": {},
   "source": [
    "# modificar un dataframe"
   ]
  },
  {
   "cell_type": "code",
   "execution_count": 38,
   "id": "93ab27fc",
   "metadata": {},
   "outputs": [
    {
     "data": {
      "text/html": [
       "<div>\n",
       "<style scoped>\n",
       "    .dataframe tbody tr th:only-of-type {\n",
       "        vertical-align: middle;\n",
       "    }\n",
       "\n",
       "    .dataframe tbody tr th {\n",
       "        vertical-align: top;\n",
       "    }\n",
       "\n",
       "    .dataframe thead th {\n",
       "        text-align: right;\n",
       "    }\n",
       "</style>\n",
       "<table border=\"1\" class=\"dataframe\">\n",
       "  <thead>\n",
       "    <tr style=\"text-align: right;\">\n",
       "      <th></th>\n",
       "      <th>peso</th>\n",
       "      <th>altura</th>\n",
       "      <th>mascotas</th>\n",
       "    </tr>\n",
       "  </thead>\n",
       "  <tbody>\n",
       "    <tr>\n",
       "      <th>deportista</th>\n",
       "      <td>75</td>\n",
       "      <td>170</td>\n",
       "      <td>NaN</td>\n",
       "    </tr>\n",
       "    <tr>\n",
       "      <th>faby</th>\n",
       "      <td>63</td>\n",
       "      <td>180</td>\n",
       "      <td>3.0</td>\n",
       "    </tr>\n",
       "    <tr>\n",
       "      <th>lupita</th>\n",
       "      <td>68</td>\n",
       "      <td>168</td>\n",
       "      <td>NaN</td>\n",
       "    </tr>\n",
       "    <tr>\n",
       "      <th>nuevo</th>\n",
       "      <td>56</td>\n",
       "      <td>164</td>\n",
       "      <td>4.0</td>\n",
       "    </tr>\n",
       "  </tbody>\n",
       "</table>\n",
       "</div>"
      ],
      "text/plain": [
       "            peso  altura  mascotas\n",
       "deportista    75     170       NaN\n",
       "faby          63     180       3.0\n",
       "lupita        68     168       NaN\n",
       "nuevo         56     164       4.0"
      ]
     },
     "execution_count": 38,
     "metadata": {},
     "output_type": "execute_result"
    }
   ],
   "source": [
    "personas = {\n",
    "    \"peso\": pd.Series([63,56,68,75], [\"faby\" , \"nuevo\" , \"lupita\" , \"deportista\"]),\n",
    "    \"altura\": pd.Series({\"faby\": 180, \"nuevo\": 164, \"lupita\": 168, \"deportista\": 170}),\n",
    "    \"mascotas\": pd.Series([3,4], [\"faby\", \"nuevo\"])\n",
    "}\n",
    "df = pd.DataFrame(personas)\n",
    "df"
   ]
  },
  {
   "cell_type": "code",
   "execution_count": 39,
   "id": "fdc58dc0",
   "metadata": {},
   "outputs": [
    {
     "data": {
      "text/html": [
       "<div>\n",
       "<style scoped>\n",
       "    .dataframe tbody tr th:only-of-type {\n",
       "        vertical-align: middle;\n",
       "    }\n",
       "\n",
       "    .dataframe tbody tr th {\n",
       "        vertical-align: top;\n",
       "    }\n",
       "\n",
       "    .dataframe thead th {\n",
       "        text-align: right;\n",
       "    }\n",
       "</style>\n",
       "<table border=\"1\" class=\"dataframe\">\n",
       "  <thead>\n",
       "    <tr style=\"text-align: right;\">\n",
       "      <th></th>\n",
       "      <th>peso</th>\n",
       "      <th>altura</th>\n",
       "      <th>mascotas</th>\n",
       "      <th>año_Nacimiento</th>\n",
       "    </tr>\n",
       "  </thead>\n",
       "  <tbody>\n",
       "    <tr>\n",
       "      <th>deportista</th>\n",
       "      <td>75</td>\n",
       "      <td>170</td>\n",
       "      <td>NaN</td>\n",
       "      <td>2004</td>\n",
       "    </tr>\n",
       "    <tr>\n",
       "      <th>faby</th>\n",
       "      <td>63</td>\n",
       "      <td>180</td>\n",
       "      <td>3.0</td>\n",
       "      <td>2004</td>\n",
       "    </tr>\n",
       "    <tr>\n",
       "      <th>lupita</th>\n",
       "      <td>68</td>\n",
       "      <td>168</td>\n",
       "      <td>NaN</td>\n",
       "      <td>2004</td>\n",
       "    </tr>\n",
       "    <tr>\n",
       "      <th>nuevo</th>\n",
       "      <td>56</td>\n",
       "      <td>164</td>\n",
       "      <td>4.0</td>\n",
       "      <td>2005</td>\n",
       "    </tr>\n",
       "  </tbody>\n",
       "</table>\n",
       "</div>"
      ],
      "text/plain": [
       "            peso  altura  mascotas  año_Nacimiento\n",
       "deportista    75     170       NaN            2004\n",
       "faby          63     180       3.0            2004\n",
       "lupita        68     168       NaN            2004\n",
       "nuevo         56     164       4.0            2005"
      ]
     },
     "execution_count": 39,
     "metadata": {},
     "output_type": "execute_result"
    }
   ],
   "source": [
    "# añadir una nueva columna al DataFrame \n",
    "df[\"año_Nacimiento\"] = [2004, 2004 , 2004 , 2005]\n",
    "df"
   ]
  },
  {
   "cell_type": "code",
   "execution_count": 40,
   "id": "1d1f15b1",
   "metadata": {},
   "outputs": [
    {
     "data": {
      "text/html": [
       "<div>\n",
       "<style scoped>\n",
       "    .dataframe tbody tr th:only-of-type {\n",
       "        vertical-align: middle;\n",
       "    }\n",
       "\n",
       "    .dataframe tbody tr th {\n",
       "        vertical-align: top;\n",
       "    }\n",
       "\n",
       "    .dataframe thead th {\n",
       "        text-align: right;\n",
       "    }\n",
       "</style>\n",
       "<table border=\"1\" class=\"dataframe\">\n",
       "  <thead>\n",
       "    <tr style=\"text-align: right;\">\n",
       "      <th></th>\n",
       "      <th>peso</th>\n",
       "      <th>altura</th>\n",
       "      <th>mascotas</th>\n",
       "    </tr>\n",
       "  </thead>\n",
       "  <tbody>\n",
       "    <tr>\n",
       "      <th>deportista</th>\n",
       "      <td>75</td>\n",
       "      <td>170</td>\n",
       "      <td>NaN</td>\n",
       "    </tr>\n",
       "    <tr>\n",
       "      <th>faby</th>\n",
       "      <td>63</td>\n",
       "      <td>180</td>\n",
       "      <td>3.0</td>\n",
       "    </tr>\n",
       "    <tr>\n",
       "      <th>lupita</th>\n",
       "      <td>68</td>\n",
       "      <td>168</td>\n",
       "      <td>NaN</td>\n",
       "    </tr>\n",
       "    <tr>\n",
       "      <th>nuevo</th>\n",
       "      <td>56</td>\n",
       "      <td>164</td>\n",
       "      <td>4.0</td>\n",
       "    </tr>\n",
       "  </tbody>\n",
       "</table>\n",
       "</div>"
      ],
      "text/plain": [
       "            peso  altura  mascotas\n",
       "deportista    75     170       NaN\n",
       "faby          63     180       3.0\n",
       "lupita        68     168       NaN\n",
       "nuevo         56     164       4.0"
      ]
     },
     "execution_count": 40,
     "metadata": {},
     "output_type": "execute_result"
    }
   ],
   "source": [
    "df_copy"
   ]
  },
  {
   "cell_type": "code",
   "execution_count": 44,
   "id": "70b8041b",
   "metadata": {},
   "outputs": [
    {
     "data": {
      "text/html": [
       "<div>\n",
       "<style scoped>\n",
       "    .dataframe tbody tr th:only-of-type {\n",
       "        vertical-align: middle;\n",
       "    }\n",
       "\n",
       "    .dataframe tbody tr th {\n",
       "        vertical-align: top;\n",
       "    }\n",
       "\n",
       "    .dataframe thead th {\n",
       "        text-align: right;\n",
       "    }\n",
       "</style>\n",
       "<table border=\"1\" class=\"dataframe\">\n",
       "  <thead>\n",
       "    <tr style=\"text-align: right;\">\n",
       "      <th></th>\n",
       "      <th>peso</th>\n",
       "      <th>altura</th>\n",
       "      <th>mascotas</th>\n",
       "      <th>año_Nacimiento</th>\n",
       "    </tr>\n",
       "  </thead>\n",
       "  <tbody>\n",
       "    <tr>\n",
       "      <th>deportista</th>\n",
       "      <td>75</td>\n",
       "      <td>170</td>\n",
       "      <td>1</td>\n",
       "      <td>2004</td>\n",
       "    </tr>\n",
       "    <tr>\n",
       "      <th>faby</th>\n",
       "      <td>63</td>\n",
       "      <td>180</td>\n",
       "      <td>3</td>\n",
       "      <td>2004</td>\n",
       "    </tr>\n",
       "    <tr>\n",
       "      <th>lupita</th>\n",
       "      <td>68</td>\n",
       "      <td>168</td>\n",
       "      <td>0</td>\n",
       "      <td>2004</td>\n",
       "    </tr>\n",
       "    <tr>\n",
       "      <th>nuevo</th>\n",
       "      <td>56</td>\n",
       "      <td>164</td>\n",
       "      <td>0</td>\n",
       "      <td>2005</td>\n",
       "    </tr>\n",
       "  </tbody>\n",
       "</table>\n",
       "</div>"
      ],
      "text/plain": [
       "            peso  altura  mascotas  año_Nacimiento\n",
       "deportista    75     170         1            2004\n",
       "faby          63     180         3            2004\n",
       "lupita        68     168         0            2004\n",
       "nuevo         56     164         0            2005"
      ]
     },
     "execution_count": 44,
     "metadata": {},
     "output_type": "execute_result"
    }
   ],
   "source": [
    "# añadir una nueva columna creando un dataframe nuevo\n",
    "df_mod = df.assign(mascotas = [1,3,0,0])\n",
    "df_mod"
   ]
  },
  {
   "cell_type": "code",
   "execution_count": 45,
   "id": "eb946ee8",
   "metadata": {},
   "outputs": [
    {
     "data": {
      "text/html": [
       "<div>\n",
       "<style scoped>\n",
       "    .dataframe tbody tr th:only-of-type {\n",
       "        vertical-align: middle;\n",
       "    }\n",
       "\n",
       "    .dataframe tbody tr th {\n",
       "        vertical-align: top;\n",
       "    }\n",
       "\n",
       "    .dataframe thead th {\n",
       "        text-align: right;\n",
       "    }\n",
       "</style>\n",
       "<table border=\"1\" class=\"dataframe\">\n",
       "  <thead>\n",
       "    <tr style=\"text-align: right;\">\n",
       "      <th></th>\n",
       "      <th>peso</th>\n",
       "      <th>altura</th>\n",
       "      <th>mascotas</th>\n",
       "      <th>año_Nacimiento</th>\n",
       "    </tr>\n",
       "  </thead>\n",
       "  <tbody>\n",
       "    <tr>\n",
       "      <th>deportista</th>\n",
       "      <td>75</td>\n",
       "      <td>170</td>\n",
       "      <td>NaN</td>\n",
       "      <td>2004</td>\n",
       "    </tr>\n",
       "    <tr>\n",
       "      <th>faby</th>\n",
       "      <td>63</td>\n",
       "      <td>180</td>\n",
       "      <td>3.0</td>\n",
       "      <td>2004</td>\n",
       "    </tr>\n",
       "    <tr>\n",
       "      <th>lupita</th>\n",
       "      <td>68</td>\n",
       "      <td>168</td>\n",
       "      <td>NaN</td>\n",
       "      <td>2004</td>\n",
       "    </tr>\n",
       "    <tr>\n",
       "      <th>nuevo</th>\n",
       "      <td>56</td>\n",
       "      <td>164</td>\n",
       "      <td>4.0</td>\n",
       "      <td>2005</td>\n",
       "    </tr>\n",
       "  </tbody>\n",
       "</table>\n",
       "</div>"
      ],
      "text/plain": [
       "            peso  altura  mascotas  año_Nacimiento\n",
       "deportista    75     170       NaN            2004\n",
       "faby          63     180       3.0            2004\n",
       "lupita        68     168       NaN            2004\n",
       "nuevo         56     164       4.0            2005"
      ]
     },
     "execution_count": 45,
     "metadata": {},
     "output_type": "execute_result"
    }
   ],
   "source": [
    "df"
   ]
  },
  {
   "cell_type": "code",
   "execution_count": 46,
   "id": "b6627822",
   "metadata": {},
   "outputs": [
    {
     "data": {
      "text/html": [
       "<div>\n",
       "<style scoped>\n",
       "    .dataframe tbody tr th:only-of-type {\n",
       "        vertical-align: middle;\n",
       "    }\n",
       "\n",
       "    .dataframe tbody tr th {\n",
       "        vertical-align: top;\n",
       "    }\n",
       "\n",
       "    .dataframe thead th {\n",
       "        text-align: right;\n",
       "    }\n",
       "</style>\n",
       "<table border=\"1\" class=\"dataframe\">\n",
       "  <thead>\n",
       "    <tr style=\"text-align: right;\">\n",
       "      <th></th>\n",
       "      <th>altura</th>\n",
       "      <th>mascotas</th>\n",
       "      <th>año_Nacimiento</th>\n",
       "    </tr>\n",
       "  </thead>\n",
       "  <tbody>\n",
       "    <tr>\n",
       "      <th>deportista</th>\n",
       "      <td>170</td>\n",
       "      <td>NaN</td>\n",
       "      <td>2004</td>\n",
       "    </tr>\n",
       "    <tr>\n",
       "      <th>faby</th>\n",
       "      <td>180</td>\n",
       "      <td>3.0</td>\n",
       "      <td>2004</td>\n",
       "    </tr>\n",
       "    <tr>\n",
       "      <th>lupita</th>\n",
       "      <td>168</td>\n",
       "      <td>NaN</td>\n",
       "      <td>2004</td>\n",
       "    </tr>\n",
       "    <tr>\n",
       "      <th>nuevo</th>\n",
       "      <td>164</td>\n",
       "      <td>4.0</td>\n",
       "      <td>2005</td>\n",
       "    </tr>\n",
       "  </tbody>\n",
       "</table>\n",
       "</div>"
      ],
      "text/plain": [
       "            altura  mascotas  año_Nacimiento\n",
       "deportista     170       NaN            2004\n",
       "faby           180       3.0            2004\n",
       "lupita         168       NaN            2004\n",
       "nuevo          164       4.0            2005"
      ]
     },
     "execution_count": 46,
     "metadata": {},
     "output_type": "execute_result"
    }
   ],
   "source": [
    "# eliminar una columna existente de un DataFrame \n",
    "del df[\"peso\"]\n",
    "df"
   ]
  },
  {
   "cell_type": "markdown",
   "id": "64469c54",
   "metadata": {},
   "source": [
    "## evaluacion de expresiones sobre un DataFrame "
   ]
  },
  {
   "cell_type": "code",
   "execution_count": 47,
   "id": "a1d21ab9",
   "metadata": {},
   "outputs": [
    {
     "data": {
      "text/html": [
       "<div>\n",
       "<style scoped>\n",
       "    .dataframe tbody tr th:only-of-type {\n",
       "        vertical-align: middle;\n",
       "    }\n",
       "\n",
       "    .dataframe tbody tr th {\n",
       "        vertical-align: top;\n",
       "    }\n",
       "\n",
       "    .dataframe thead th {\n",
       "        text-align: right;\n",
       "    }\n",
       "</style>\n",
       "<table border=\"1\" class=\"dataframe\">\n",
       "  <thead>\n",
       "    <tr style=\"text-align: right;\">\n",
       "      <th></th>\n",
       "      <th>peso</th>\n",
       "      <th>altura</th>\n",
       "      <th>mascotas</th>\n",
       "    </tr>\n",
       "  </thead>\n",
       "  <tbody>\n",
       "    <tr>\n",
       "      <th>deportista</th>\n",
       "      <td>75</td>\n",
       "      <td>170</td>\n",
       "      <td>NaN</td>\n",
       "    </tr>\n",
       "    <tr>\n",
       "      <th>faby</th>\n",
       "      <td>63</td>\n",
       "      <td>180</td>\n",
       "      <td>3.0</td>\n",
       "    </tr>\n",
       "    <tr>\n",
       "      <th>lupita</th>\n",
       "      <td>68</td>\n",
       "      <td>168</td>\n",
       "      <td>NaN</td>\n",
       "    </tr>\n",
       "    <tr>\n",
       "      <th>nuevo</th>\n",
       "      <td>56</td>\n",
       "      <td>164</td>\n",
       "      <td>4.0</td>\n",
       "    </tr>\n",
       "  </tbody>\n",
       "</table>\n",
       "</div>"
      ],
      "text/plain": [
       "            peso  altura  mascotas\n",
       "deportista    75     170       NaN\n",
       "faby          63     180       3.0\n",
       "lupita        68     168       NaN\n",
       "nuevo         56     164       4.0"
      ]
     },
     "execution_count": 47,
     "metadata": {},
     "output_type": "execute_result"
    }
   ],
   "source": [
    "personas = {\n",
    "    \"peso\": pd.Series([63,56,68,75], [\"faby\" , \"nuevo\" , \"lupita\" , \"deportista\"]),\n",
    "    \"altura\": pd.Series({\"faby\": 180, \"nuevo\": 164, \"lupita\": 168, \"deportista\": 170}),\n",
    "    \"mascotas\": pd.Series([3,4], [\"faby\", \"nuevo\"])\n",
    "}\n",
    "df = pd.DataFrame(personas)\n",
    "df"
   ]
  },
  {
   "cell_type": "code",
   "execution_count": 49,
   "id": "bca0cc36",
   "metadata": {},
   "outputs": [
    {
     "data": {
      "text/html": [
       "<div>\n",
       "<style scoped>\n",
       "    .dataframe tbody tr th:only-of-type {\n",
       "        vertical-align: middle;\n",
       "    }\n",
       "\n",
       "    .dataframe tbody tr th {\n",
       "        vertical-align: top;\n",
       "    }\n",
       "\n",
       "    .dataframe thead th {\n",
       "        text-align: right;\n",
       "    }\n",
       "</style>\n",
       "<table border=\"1\" class=\"dataframe\">\n",
       "  <thead>\n",
       "    <tr style=\"text-align: right;\">\n",
       "      <th></th>\n",
       "      <th>peso</th>\n",
       "      <th>altura</th>\n",
       "      <th>mascotas</th>\n",
       "      <th>media_altura</th>\n",
       "    </tr>\n",
       "  </thead>\n",
       "  <tbody>\n",
       "    <tr>\n",
       "      <th>deportista</th>\n",
       "      <td>75</td>\n",
       "      <td>170</td>\n",
       "      <td>NaN</td>\n",
       "      <td>85.0</td>\n",
       "    </tr>\n",
       "    <tr>\n",
       "      <th>faby</th>\n",
       "      <td>63</td>\n",
       "      <td>180</td>\n",
       "      <td>3.0</td>\n",
       "      <td>90.0</td>\n",
       "    </tr>\n",
       "    <tr>\n",
       "      <th>lupita</th>\n",
       "      <td>68</td>\n",
       "      <td>168</td>\n",
       "      <td>NaN</td>\n",
       "      <td>84.0</td>\n",
       "    </tr>\n",
       "    <tr>\n",
       "      <th>nuevo</th>\n",
       "      <td>56</td>\n",
       "      <td>164</td>\n",
       "      <td>4.0</td>\n",
       "      <td>82.0</td>\n",
       "    </tr>\n",
       "  </tbody>\n",
       "</table>\n",
       "</div>"
      ],
      "text/plain": [
       "            peso  altura  mascotas  media_altura\n",
       "deportista    75     170       NaN          85.0\n",
       "faby          63     180       3.0          90.0\n",
       "lupita        68     168       NaN          84.0\n",
       "nuevo         56     164       4.0          82.0"
      ]
     },
     "execution_count": 49,
     "metadata": {},
     "output_type": "execute_result"
    }
   ],
   "source": [
    "# evaluar una funcion de una columna del DataFrame \n",
    "df.eval(\"media_altura = altura/2\" , inplace= True)\n",
    "df"
   ]
  },
  {
   "cell_type": "code",
   "execution_count": 50,
   "id": "020dd832",
   "metadata": {},
   "outputs": [
    {
     "data": {
      "text/plain": [
       "deportista    False\n",
       "faby          False\n",
       "lupita        False\n",
       "nuevo         False\n",
       "dtype: bool"
      ]
     },
     "execution_count": 50,
     "metadata": {},
     "output_type": "execute_result"
    }
   ],
   "source": [
    "# evaluar la funcion utilizando una variable local \n",
    "max_altura = 180\n",
    "df.eval(\"altura > @max_altura\")"
   ]
  },
  {
   "cell_type": "code",
   "execution_count": 51,
   "id": "e90d14d1",
   "metadata": {},
   "outputs": [
    {
     "data": {
      "text/plain": [
       "deportista    77\n",
       "faby          65\n",
       "lupita        70\n",
       "nuevo         58\n",
       "Name: peso, dtype: int64"
      ]
     },
     "execution_count": 51,
     "metadata": {},
     "output_type": "execute_result"
    }
   ],
   "source": [
    "# aplicar una funcion externa a una columna del DataFrame\n",
    "def func(x):\n",
    "    return x + 2\n",
    "df[\"peso\"].apply(func)"
   ]
  },
  {
   "cell_type": "code",
   "execution_count": 52,
   "id": "dac55274",
   "metadata": {},
   "outputs": [
    {
     "data": {
      "text/html": [
       "<div>\n",
       "<style scoped>\n",
       "    .dataframe tbody tr th:only-of-type {\n",
       "        vertical-align: middle;\n",
       "    }\n",
       "\n",
       "    .dataframe tbody tr th {\n",
       "        vertical-align: top;\n",
       "    }\n",
       "\n",
       "    .dataframe thead th {\n",
       "        text-align: right;\n",
       "    }\n",
       "</style>\n",
       "<table border=\"1\" class=\"dataframe\">\n",
       "  <thead>\n",
       "    <tr style=\"text-align: right;\">\n",
       "      <th></th>\n",
       "      <th>peso</th>\n",
       "      <th>altura</th>\n",
       "      <th>mascotas</th>\n",
       "      <th>media_altura</th>\n",
       "    </tr>\n",
       "  </thead>\n",
       "  <tbody>\n",
       "    <tr>\n",
       "      <th>deportista</th>\n",
       "      <td>75</td>\n",
       "      <td>170</td>\n",
       "      <td>NaN</td>\n",
       "      <td>85.0</td>\n",
       "    </tr>\n",
       "    <tr>\n",
       "      <th>faby</th>\n",
       "      <td>63</td>\n",
       "      <td>180</td>\n",
       "      <td>3.0</td>\n",
       "      <td>90.0</td>\n",
       "    </tr>\n",
       "    <tr>\n",
       "      <th>lupita</th>\n",
       "      <td>68</td>\n",
       "      <td>168</td>\n",
       "      <td>NaN</td>\n",
       "      <td>84.0</td>\n",
       "    </tr>\n",
       "    <tr>\n",
       "      <th>nuevo</th>\n",
       "      <td>56</td>\n",
       "      <td>164</td>\n",
       "      <td>4.0</td>\n",
       "      <td>82.0</td>\n",
       "    </tr>\n",
       "  </tbody>\n",
       "</table>\n",
       "</div>"
      ],
      "text/plain": [
       "            peso  altura  mascotas  media_altura\n",
       "deportista    75     170       NaN          85.0\n",
       "faby          63     180       3.0          90.0\n",
       "lupita        68     168       NaN          84.0\n",
       "nuevo         56     164       4.0          82.0"
      ]
     },
     "execution_count": 52,
     "metadata": {},
     "output_type": "execute_result"
    }
   ],
   "source": [
    "df"
   ]
  },
  {
   "cell_type": "markdown",
   "id": "b7d96cbb",
   "metadata": {},
   "source": [
    "## guardar y cargar el DataFrame"
   ]
  },
  {
   "cell_type": "code",
   "execution_count": 53,
   "id": "7a21586b",
   "metadata": {},
   "outputs": [
    {
     "data": {
      "text/html": [
       "<div>\n",
       "<style scoped>\n",
       "    .dataframe tbody tr th:only-of-type {\n",
       "        vertical-align: middle;\n",
       "    }\n",
       "\n",
       "    .dataframe tbody tr th {\n",
       "        vertical-align: top;\n",
       "    }\n",
       "\n",
       "    .dataframe thead th {\n",
       "        text-align: right;\n",
       "    }\n",
       "</style>\n",
       "<table border=\"1\" class=\"dataframe\">\n",
       "  <thead>\n",
       "    <tr style=\"text-align: right;\">\n",
       "      <th></th>\n",
       "      <th>peso</th>\n",
       "      <th>altura</th>\n",
       "      <th>mascotas</th>\n",
       "    </tr>\n",
       "  </thead>\n",
       "  <tbody>\n",
       "    <tr>\n",
       "      <th>deportista</th>\n",
       "      <td>75</td>\n",
       "      <td>170</td>\n",
       "      <td>NaN</td>\n",
       "    </tr>\n",
       "    <tr>\n",
       "      <th>faby</th>\n",
       "      <td>63</td>\n",
       "      <td>180</td>\n",
       "      <td>3.0</td>\n",
       "    </tr>\n",
       "    <tr>\n",
       "      <th>lupita</th>\n",
       "      <td>68</td>\n",
       "      <td>168</td>\n",
       "      <td>NaN</td>\n",
       "    </tr>\n",
       "    <tr>\n",
       "      <th>nuevo</th>\n",
       "      <td>56</td>\n",
       "      <td>164</td>\n",
       "      <td>4.0</td>\n",
       "    </tr>\n",
       "  </tbody>\n",
       "</table>\n",
       "</div>"
      ],
      "text/plain": [
       "            peso  altura  mascotas\n",
       "deportista    75     170       NaN\n",
       "faby          63     180       3.0\n",
       "lupita        68     168       NaN\n",
       "nuevo         56     164       4.0"
      ]
     },
     "execution_count": 53,
     "metadata": {},
     "output_type": "execute_result"
    }
   ],
   "source": [
    "personas = {\n",
    "    \"peso\": pd.Series([63,56,68,75], [\"faby\" , \"nuevo\" , \"lupita\" , \"deportista\"]),\n",
    "    \"altura\": pd.Series({\"faby\": 180, \"nuevo\": 164, \"lupita\": 168, \"deportista\": 170}),\n",
    "    \"mascotas\": pd.Series([3,4], [\"faby\", \"nuevo\"])\n",
    "}\n",
    "df = pd.DataFrame(personas)\n",
    "df"
   ]
  },
  {
   "cell_type": "code",
   "execution_count": 55,
   "id": "87e9d411",
   "metadata": {},
   "outputs": [],
   "source": [
    "# guardar el DataFrame como csv , html y json  \n",
    "df.to_csv(\"df_personas.csv\")\n",
    "df.to_html(\"df_personas.html\")\n",
    "df.to_json(\"df_personas.json\")"
   ]
  },
  {
   "cell_type": "code",
   "execution_count": 56,
   "id": "9c2e024f",
   "metadata": {},
   "outputs": [
    {
     "data": {
      "text/html": [
       "<div>\n",
       "<style scoped>\n",
       "    .dataframe tbody tr th:only-of-type {\n",
       "        vertical-align: middle;\n",
       "    }\n",
       "\n",
       "    .dataframe tbody tr th {\n",
       "        vertical-align: top;\n",
       "    }\n",
       "\n",
       "    .dataframe thead th {\n",
       "        text-align: right;\n",
       "    }\n",
       "</style>\n",
       "<table border=\"1\" class=\"dataframe\">\n",
       "  <thead>\n",
       "    <tr style=\"text-align: right;\">\n",
       "      <th></th>\n",
       "      <th>peso</th>\n",
       "      <th>altura</th>\n",
       "      <th>mascotas</th>\n",
       "    </tr>\n",
       "  </thead>\n",
       "  <tbody>\n",
       "    <tr>\n",
       "      <th>deportista</th>\n",
       "      <td>75</td>\n",
       "      <td>170</td>\n",
       "      <td>NaN</td>\n",
       "    </tr>\n",
       "    <tr>\n",
       "      <th>faby</th>\n",
       "      <td>63</td>\n",
       "      <td>180</td>\n",
       "      <td>3.0</td>\n",
       "    </tr>\n",
       "    <tr>\n",
       "      <th>lupita</th>\n",
       "      <td>68</td>\n",
       "      <td>168</td>\n",
       "      <td>NaN</td>\n",
       "    </tr>\n",
       "    <tr>\n",
       "      <th>nuevo</th>\n",
       "      <td>56</td>\n",
       "      <td>164</td>\n",
       "      <td>4.0</td>\n",
       "    </tr>\n",
       "  </tbody>\n",
       "</table>\n",
       "</div>"
      ],
      "text/plain": [
       "            peso  altura  mascotas\n",
       "deportista    75     170       NaN\n",
       "faby          63     180       3.0\n",
       "lupita        68     168       NaN\n",
       "nuevo         56     164       4.0"
      ]
     },
     "execution_count": 56,
     "metadata": {},
     "output_type": "execute_result"
    }
   ],
   "source": [
    "# cargar el DataFrame con la primera columna correctamente asgnada\n",
    "df2 = pd.read_csv(\"df_personas.csv\" , index_col = 0)\n",
    "df2"
   ]
  },
  {
   "cell_type": "code",
   "execution_count": null,
   "id": "63c551ca",
   "metadata": {},
   "outputs": [],
   "source": []
  }
 ],
 "metadata": {
  "kernelspec": {
   "display_name": "Python 3 (ipykernel)",
   "language": "python",
   "name": "python3"
  },
  "language_info": {
   "codemirror_mode": {
    "name": "ipython",
    "version": 3
   },
   "file_extension": ".py",
   "mimetype": "text/x-python",
   "name": "python",
   "nbconvert_exporter": "python",
   "pygments_lexer": "ipython3",
   "version": "3.10.9"
  }
 },
 "nbformat": 4,
 "nbformat_minor": 5
}
