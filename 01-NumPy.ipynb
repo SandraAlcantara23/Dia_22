{
 "cells": [
  {
   "cell_type": "markdown",
   "id": "f2ce495e",
   "metadata": {},
   "source": [
    "# introduccion a NumPy"
   ]
  },
  {
   "cell_type": "markdown",
   "id": "ed627ea0",
   "metadata": {},
   "source": [
    "[Numpy](https://numpy.org/) es una libreria fundamental para la computacion cientifica  con Python.\n",
    "* proporciona arrays n-Dimensionales\n",
    "* implementa funciones matematicas sofisticadas de alto nivel.\n",
    "* proporciona herramientas para integrar c/c++ y fortran.\n",
    "* proporciona mecanismos para facilitar tareas relacionadas con algebra lineal o numeros pseudoaleatorios"
   ]
  },
  {
   "cell_type": "code",
   "execution_count": 1,
   "id": "e9a12b0b",
   "metadata": {},
   "outputs": [],
   "source": [
    "import numpy as np"
   ]
  },
  {
   "cell_type": "markdown",
   "id": "784be896",
   "metadata": {},
   "source": [
    "un array es una estructura de datos que consiste en una coleccion de elementos (valores o variables), cada uno identificado \n",
    "por almenos por almenos un indice clave. un array se almacena de modo que la posicion de cada elemento se oueda calcular a partir  de \n",
    "su tupla de indice mediante una formula matematica .el tipo mas simple de array es un array lineal , tambien llamado array unidimencional"
   ]
  },
  {
   "cell_type": "markdown",
   "id": "95c0f795",
   "metadata": {},
   "source": [
    "en NumPy\n",
    "*cada dimension se denomina *axis*\n"
   ]
  },
  {
   "cell_type": "code",
   "execution_count": 2,
   "id": "6507ed6d",
   "metadata": {},
   "outputs": [],
   "source": [
    "# array cuyos elementos son todos 0.\n",
    "Al = np.zeros((2,4))\n"
   ]
  },
  {
   "cell_type": "code",
   "execution_count": 3,
   "id": "4f9b6a6d",
   "metadata": {},
   "outputs": [
    {
     "data": {
      "text/plain": [
       "array([[0., 0., 0., 0.],\n",
       "       [0., 0., 0., 0.]])"
      ]
     },
     "execution_count": 3,
     "metadata": {},
     "output_type": "execute_result"
    }
   ],
   "source": [
    "Al"
   ]
  },
  {
   "cell_type": "markdown",
   "id": "0c06193d",
   "metadata": {},
   "source": [
    "_**a**_ es un array:\n",
    "* con dos **axis**,el primero con una longitud de 2 filas y una longitud de 4 columnas .\n",
    "* con un **rank** de 2 \n",
    "* con un **shape** de (2,4)\n",
    "* con un **size** de 8\n"
   ]
  },
  {
   "cell_type": "code",
   "execution_count": 4,
   "id": "00df9c72",
   "metadata": {},
   "outputs": [
    {
     "data": {
      "text/plain": [
       "(2, 4)"
      ]
     },
     "execution_count": 4,
     "metadata": {},
     "output_type": "execute_result"
    }
   ],
   "source": [
    "Al.shape"
   ]
  },
  {
   "cell_type": "code",
   "execution_count": 5,
   "id": "bfd4c14e",
   "metadata": {},
   "outputs": [
    {
     "data": {
      "text/plain": [
       "2"
      ]
     },
     "execution_count": 5,
     "metadata": {},
     "output_type": "execute_result"
    }
   ],
   "source": [
    "Al.ndim"
   ]
  },
  {
   "cell_type": "code",
   "execution_count": 6,
   "id": "50c96d2b",
   "metadata": {},
   "outputs": [
    {
     "data": {
      "text/plain": [
       "8"
      ]
     },
     "execution_count": 6,
     "metadata": {},
     "output_type": "execute_result"
    }
   ],
   "source": [
    "Al.size"
   ]
  },
  {
   "cell_type": "markdown",
   "id": "96b8df75",
   "metadata": {},
   "source": [
    "## creacion de arrays \n"
   ]
  },
  {
   "cell_type": "code",
   "execution_count": 7,
   "id": "c90b2f45",
   "metadata": {},
   "outputs": [
    {
     "data": {
      "text/plain": [
       "array([[[0., 0., 0., 0.],\n",
       "        [0., 0., 0., 0.],\n",
       "        [0., 0., 0., 0.]],\n",
       "\n",
       "       [[0., 0., 0., 0.],\n",
       "        [0., 0., 0., 0.],\n",
       "        [0., 0., 0., 0.]]])"
      ]
     },
     "execution_count": 7,
     "metadata": {},
     "output_type": "execute_result"
    }
   ],
   "source": [
    "# array cuyos valores son todos ceros\n",
    "np.zeros((2,3,4))"
   ]
  },
  {
   "cell_type": "code",
   "execution_count": 8,
   "id": "65467382",
   "metadata": {},
   "outputs": [
    {
     "data": {
      "text/plain": [
       "array([[[1., 1., 1., 1.],\n",
       "        [1., 1., 1., 1.],\n",
       "        [1., 1., 1., 1.]],\n",
       "\n",
       "       [[1., 1., 1., 1.],\n",
       "        [1., 1., 1., 1.],\n",
       "        [1., 1., 1., 1.]]])"
      ]
     },
     "execution_count": 8,
     "metadata": {},
     "output_type": "execute_result"
    }
   ],
   "source": [
    "# array cuyos valores son todos unos\n",
    "np.ones((2,3,4))"
   ]
  },
  {
   "cell_type": "code",
   "execution_count": 9,
   "id": "06d77a70",
   "metadata": {},
   "outputs": [
    {
     "data": {
      "text/plain": [
       "array([[[8, 8, 8, 8],\n",
       "        [8, 8, 8, 8],\n",
       "        [8, 8, 8, 8]],\n",
       "\n",
       "       [[8, 8, 8, 8],\n",
       "        [8, 8, 8, 8],\n",
       "        [8, 8, 8, 8]]])"
      ]
     },
     "execution_count": 9,
     "metadata": {},
     "output_type": "execute_result"
    }
   ],
   "source": [
    "# array couy valores son todos el valor indicado como segundo parametro de la funcion \n",
    "np.full((2,3,4),8)"
   ]
  },
  {
   "cell_type": "code",
   "execution_count": 10,
   "id": "c94e336e",
   "metadata": {},
   "outputs": [
    {
     "data": {
      "text/plain": [
       "array([[[1.04251694e-311, 1.04247346e-311, 0.00000000e+000,\n",
       "         0.00000000e+000, 1.33511018e-306],\n",
       "        [1.16097020e-028, 1.26087994e-076, 3.05354693e-028,\n",
       "         1.17553538e-047, 1.04917183e-153],\n",
       "        [5.23081515e-143, 6.23079761e+174, 2.58154550e-057,\n",
       "         1.72559680e-047, 1.52789103e+160]],\n",
       "\n",
       "       [[1.70098498e+256, 5.49109388e-143, 1.06396443e+224,\n",
       "         3.96041428e+246, 1.16318408e-028],\n",
       "        [4.31948985e-061, 3.30652111e+179, 3.98454124e-062,\n",
       "         5.18943507e+170, 1.01848862e+248],\n",
       "        [1.16096643e-028, 9.80058441e+252, 7.50189709e+247,\n",
       "         1.14484251e+243, 2.59903827e-144]]])"
      ]
     },
     "execution_count": 10,
     "metadata": {},
     "output_type": "execute_result"
    }
   ],
   "source": [
    "# el resultado np.empty no es predesible \n",
    "# inicializa los valores del array con lo que hay en memoria\n",
    "np.empty((2,3,5))"
   ]
  },
  {
   "cell_type": "code",
   "execution_count": 11,
   "id": "dfe9ed03",
   "metadata": {},
   "outputs": [],
   "source": [
    "# inicializacion del array utilizando un array de python \n",
    "b=np.array([[1,2,3,4],[5,6,7,8]])"
   ]
  },
  {
   "cell_type": "code",
   "execution_count": 12,
   "id": "6233b0c6",
   "metadata": {},
   "outputs": [
    {
     "data": {
      "text/plain": [
       "array([[1, 2, 3, 4],\n",
       "       [5, 6, 7, 8]])"
      ]
     },
     "execution_count": 12,
     "metadata": {},
     "output_type": "execute_result"
    }
   ],
   "source": [
    "b"
   ]
  },
  {
   "cell_type": "code",
   "execution_count": 13,
   "id": "0e06f6f9",
   "metadata": {},
   "outputs": [
    {
     "data": {
      "text/plain": [
       "(2, 4)"
      ]
     },
     "execution_count": 13,
     "metadata": {},
     "output_type": "execute_result"
    }
   ],
   "source": [
    "b.shape"
   ]
  },
  {
   "cell_type": "code",
   "execution_count": 14,
   "id": "4ee3337d",
   "metadata": {},
   "outputs": [
    {
     "name": "stdout",
     "output_type": "stream",
     "text": [
      "[0.         0.66666667 1.33333333 2.         2.66666667 3.33333333\n",
      " 4.         4.66666667 5.33333333 6.        ]\n"
     ]
    }
   ],
   "source": [
    "# creacion del array utilizando una funcion basada en rangos\n",
    "#(minimo,maximo,numero de elementos del array)\n",
    "print(np.linspace(0,6,10))"
   ]
  },
  {
   "cell_type": "code",
   "execution_count": 15,
   "id": "38686863",
   "metadata": {},
   "outputs": [
    {
     "data": {
      "text/plain": [
       "array([[[0.83286977, 0.86586743, 0.88417472, 0.65180754],\n",
       "        [0.59519489, 0.38120199, 0.14636714, 0.53991361],\n",
       "        [0.84849886, 0.25023544, 0.97601805, 0.02641872]],\n",
       "\n",
       "       [[0.84845213, 0.65954481, 0.84475792, 0.31854187],\n",
       "        [0.96515447, 0.63517152, 0.47784658, 0.86213282],\n",
       "        [0.8785705 , 0.15549595, 0.70463771, 0.91459903]]])"
      ]
     },
     "execution_count": 15,
     "metadata": {},
     "output_type": "execute_result"
    }
   ],
   "source": [
    "# inicializar un array con valores aleatorios \n",
    "np.random.rand(2,3,4)"
   ]
  },
  {
   "cell_type": "code",
   "execution_count": 16,
   "id": "ac9f8a53",
   "metadata": {},
   "outputs": [
    {
     "data": {
      "text/plain": [
       "array([[ 0.89511532, -0.62602029, -0.18342616, -1.24926841],\n",
       "       [-0.88618033,  0.26938464, -0.18161532, -0.16891336]])"
      ]
     },
     "execution_count": 16,
     "metadata": {},
     "output_type": "execute_result"
    }
   ],
   "source": [
    "# inicializar un array con valores aleatorios conforme a una distribucion normal \n",
    "np.random.randn(2,4)"
   ]
  },
  {
   "cell_type": "code",
   "execution_count": 17,
   "id": "794b294f",
   "metadata": {},
   "outputs": [
    {
     "data": {
      "image/png": "[encoded data removed]",
      "text/plain": [
       "<Figure size 640x480 with 1 Axes>"
      ]
     },
     "metadata": {},
     "output_type": "display_data"
    },
    {
     "data": {
      "image/png": "[encoded data removed]",
      "text/plain": [
       "<Figure size 640x480 with 1 Axes>"
      ]
     },
     "metadata": {},
     "output_type": "display_data"
    }
   ],
   "source": [
    "%matplotlib inline\n",
    "import matplotlib.pyplot as plt\n",
    "c=np.random.randn(1000000)\n",
    "plt.hist(c,bins=200)\n",
    "plt.show(())"
   ]
  },
  {
   "cell_type": "code",
   "execution_count": 18,
   "id": "63398202",
   "metadata": {},
   "outputs": [
    {
     "data": {
      "text/plain": [
       "array([[ 0.,  2.,  4.,  6.,  8.],\n",
       "       [ 1.,  3.,  5.,  7.,  9.],\n",
       "       [ 2.,  4.,  6.,  8., 10.]])"
      ]
     },
     "execution_count": 18,
     "metadata": {},
     "output_type": "execute_result"
    }
   ],
   "source": [
    "#inicializar un array utlizando una funcion personalizada \n",
    "def func(x,y):\n",
    "    return x + 2 * y \n",
    "np.fromfunction(func,(3,5))"
   ]
  },
  {
   "cell_type": "markdown",
   "id": "6bbc7cdc",
   "metadata": {},
   "source": [
    "## acesso a los elementos de un array"
   ]
  },
  {
   "cell_type": "markdown",
   "id": "e077229f",
   "metadata": {},
   "source": [
    "## array unidimencional"
   ]
  },
  {
   "cell_type": "code",
   "execution_count": 19,
   "id": "32be1993",
   "metadata": {},
   "outputs": [
    {
     "name": "stdout",
     "output_type": "stream",
     "text": [
      "shape: (6,)\n",
      "array_uni: [ 1  3  5  7  9 11]\n"
     ]
    }
   ],
   "source": [
    "# creacion de un array multidimencional \n",
    "array_uni=np.array([1,3,5,7,9,11])\n",
    "print(\"shape:\", array_uni.shape)\n",
    "print(\"array_uni:\",array_uni)"
   ]
  },
  {
   "cell_type": "code",
   "execution_count": 20,
   "id": "144ac8e1",
   "metadata": {},
   "outputs": [
    {
     "data": {
      "text/plain": [
       "9"
      ]
     },
     "execution_count": 20,
     "metadata": {},
     "output_type": "execute_result"
    }
   ],
   "source": [
    "#acceder al quinto elemento del array\n",
    "array_uni[4]"
   ]
  },
  {
   "cell_type": "code",
   "execution_count": 21,
   "id": "791c0e5b",
   "metadata": {},
   "outputs": [
    {
     "data": {
      "text/plain": [
       "array([5, 7])"
      ]
     },
     "execution_count": 21,
     "metadata": {},
     "output_type": "execute_result"
    }
   ],
   "source": [
    "#acceder al tercer al tercer elemnto del array\n",
    "array_uni[2:4]"
   ]
  },
  {
   "cell_type": "code",
   "execution_count": 22,
   "id": "e4519ea6",
   "metadata": {},
   "outputs": [
    {
     "data": {
      "text/plain": [
       "array([1, 7])"
      ]
     },
     "execution_count": 22,
     "metadata": {},
     "output_type": "execute_result"
    }
   ],
   "source": [
    "# acceder a los elementos del array 0,3 y 5 del array\n",
    "array_uni[0::3]"
   ]
  },
  {
   "cell_type": "markdown",
   "id": "cd30a5a2",
   "metadata": {},
   "source": [
    "## array multidimencional"
   ]
  },
  {
   "cell_type": "code",
   "execution_count": 23,
   "id": "e0a87927",
   "metadata": {},
   "outputs": [
    {
     "name": "stdout",
     "output_type": "stream",
     "text": [
      "shape: (2, 4)\n",
      "array_uni: [[1 2 3 4]\n",
      " [5 6 7 8]]\n"
     ]
    }
   ],
   "source": [
    "#crear un array multidimencional \n",
    "array_multi = np.array([[1,2,3,4],[5,6,7,8]])\n",
    "print(\"shape:\", array_multi.shape)\n",
    "print(\"array_uni:\",array_multi)"
   ]
  },
  {
   "cell_type": "code",
   "execution_count": 24,
   "id": "4fa9f998",
   "metadata": {},
   "outputs": [
    {
     "data": {
      "text/plain": [
       "4"
      ]
     },
     "execution_count": 24,
     "metadata": {},
     "output_type": "execute_result"
    }
   ],
   "source": [
    "#acceder al cuarto elento del array\n",
    "array_multi[0,3]"
   ]
  },
  {
   "cell_type": "code",
   "execution_count": 25,
   "id": "5a0bb65a",
   "metadata": {},
   "outputs": [
    {
     "data": {
      "text/plain": [
       "array([5, 6, 7, 8])"
      ]
     },
     "execution_count": 25,
     "metadata": {},
     "output_type": "execute_result"
    }
   ],
   "source": [
    "#acceder a la segunda fila del array\n",
    "array_multi[1,:]"
   ]
  },
  {
   "cell_type": "code",
   "execution_count": 26,
   "id": "fd79a36d",
   "metadata": {},
   "outputs": [
    {
     "data": {
      "text/plain": [
       "array([3, 7])"
      ]
     },
     "execution_count": 26,
     "metadata": {},
     "output_type": "execute_result"
    }
   ],
   "source": [
    "#acceder al tercer elemnto de las dos primeras filas del array\n",
    "array_multi[0:2, 2]"
   ]
  },
  {
   "cell_type": "markdown",
   "id": "236e992c",
   "metadata": {},
   "source": [
    "## modificacion del array"
   ]
  },
  {
   "cell_type": "code",
   "execution_count": 27,
   "id": "68798bb6",
   "metadata": {},
   "outputs": [
    {
     "name": "stdout",
     "output_type": "stream",
     "text": [
      "shape: (28,)\n",
      "arrayl: [ 0  1  2  3  4  5  6  7  8  9 10 11 12 13 14 15 16 17 18 19 20 21 22 23\n",
      " 24 25 26 27]\n"
     ]
    }
   ],
   "source": [
    "#creacion de un array unidimencional inicializando con el rango de elemento \n",
    "arrayl = np.arange(28)\n",
    "print(\"shape:\", arrayl.shape)\n",
    "print(\"arrayl:\",arrayl)"
   ]
  },
  {
   "cell_type": "code",
   "execution_count": 28,
   "id": "d02a23a6",
   "metadata": {},
   "outputs": [
    {
     "name": "stdout",
     "output_type": "stream",
     "text": [
      "shape: (7, 4)\n",
      "arrayl: [[ 0  1  2  3]\n",
      " [ 4  5  6  7]\n",
      " [ 8  9 10 11]\n",
      " [12 13 14 15]\n",
      " [16 17 18 19]\n",
      " [20 21 22 23]\n",
      " [24 25 26 27]]\n"
     ]
    }
   ],
   "source": [
    "#cambiar las dimenciones del array y sus longitudes \n",
    "arrayl.shape = (7,4)\n",
    "print(\"shape:\", arrayl.shape)\n",
    "print(\"arrayl:\",arrayl)"
   ]
  },
  {
   "cell_type": "code",
   "execution_count": 29,
   "id": "03e799ec",
   "metadata": {},
   "outputs": [
    {
     "name": "stdout",
     "output_type": "stream",
     "text": [
      "shape: (4, 7)\n",
      "array2: [[ 0  1  2  3  4  5  6]\n",
      " [ 7  8  9 10 11 12 13]\n",
      " [14 15 16 17 18 19 20]\n",
      " [21 22 23 24 25 26 27]]\n"
     ]
    }
   ],
   "source": [
    "# el ejemplo anterior devuelve un nuevo array que apunta a los mismos datos \n",
    "#importante:las modificaciones en un array, modificaran el otro array\n",
    "array2 = arrayl.reshape(4,7)\n",
    "print(\"shape:\", array2.shape)\n",
    "print(\"array2:\",array2)"
   ]
  },
  {
   "cell_type": "code",
   "execution_count": 30,
   "id": "8dcb97f8",
   "metadata": {},
   "outputs": [
    {
     "name": "stdout",
     "output_type": "stream",
     "text": [
      "array 2:\n",
      " [[ 0  1  2 20  4  5  6]\n",
      " [ 7  8  9 10 11 12 13]\n",
      " [14 15 16 17 18 19 20]\n",
      " [21 22 23 24 25 26 27]]\n"
     ]
    }
   ],
   "source": [
    "#modifica el nuevo arreglo \n",
    "array2[0,3] = 20\n",
    "print(\"array 2:\\n\" , array2)"
   ]
  },
  {
   "cell_type": "code",
   "execution_count": 31,
   "id": "67011b7c",
   "metadata": {},
   "outputs": [
    {
     "name": "stdout",
     "output_type": "stream",
     "text": [
      "array l:\n",
      " [[ 0  1  2 20]\n",
      " [ 4  5  6  7]\n",
      " [ 8  9 10 11]\n",
      " [12 13 14 15]\n",
      " [16 17 18 19]\n",
      " [20 21 22 23]\n",
      " [24 25 26 27]]\n"
     ]
    }
   ],
   "source": [
    "print(\"array l:\\n\" , arrayl)"
   ]
  },
  {
   "cell_type": "code",
   "execution_count": 32,
   "id": "95192116",
   "metadata": {},
   "outputs": [
    {
     "name": "stdout",
     "output_type": "stream",
     "text": [
      "array l [ 0  1  2 20  4  5  6  7  8  9 10 11 12 13 14 15 16 17 18 19 20 21 22 23\n",
      " 24 25 26 27]\n"
     ]
    }
   ],
   "source": [
    "#regresar el array a su estado original \n",
    "#importante el nuevo array apunta a los mismos datos\n",
    "print(\"array l\", arrayl.ravel())"
   ]
  },
  {
   "cell_type": "markdown",
   "id": "d1f375ac",
   "metadata": {},
   "source": [
    "## operaciones aritmeticas"
   ]
  },
  {
   "cell_type": "code",
   "execution_count": 33,
   "id": "4c8f18c9",
   "metadata": {},
   "outputs": [
    {
     "name": "stdout",
     "output_type": "stream",
     "text": [
      "arrayl: [ 2  4  6  8 10 12 14 16]\n",
      "array2: [0 1 2 3 4 5 6 7]\n"
     ]
    }
   ],
   "source": [
    "#creacion de dos arrays unidimencionales\n",
    "arrayl = np.arange(2,18,2)\n",
    "array2 = np.arange(8)\n",
    "print(\"arrayl:\",arrayl)\n",
    "print(\"array2:\",array2)"
   ]
  },
  {
   "cell_type": "code",
   "execution_count": 34,
   "id": "375a9220",
   "metadata": {},
   "outputs": [
    {
     "name": "stdout",
     "output_type": "stream",
     "text": [
      "[ 2  5  8 11 14 17 20 23]\n"
     ]
    }
   ],
   "source": [
    "#suma\n",
    "print(arrayl+array2)"
   ]
  },
  {
   "cell_type": "code",
   "execution_count": 35,
   "id": "cf982558",
   "metadata": {},
   "outputs": [
    {
     "name": "stdout",
     "output_type": "stream",
     "text": [
      "[2 3 4 5 6 7 8 9]\n"
     ]
    }
   ],
   "source": [
    "#resta \n",
    "print(arrayl-array2)"
   ]
  },
  {
   "cell_type": "code",
   "execution_count": 36,
   "id": "dbf723c3",
   "metadata": {},
   "outputs": [
    {
     "name": "stdout",
     "output_type": "stream",
     "text": [
      "[  0   4  12  24  40  60  84 112]\n"
     ]
    }
   ],
   "source": [
    "#multiplicacion \n",
    "# nota no es una multiplicacion de matrices \n",
    "print(arrayl*array2)"
   ]
  },
  {
   "cell_type": "markdown",
   "id": "c5320452",
   "metadata": {},
   "source": [
    "## broadcasting"
   ]
  },
  {
   "cell_type": "markdown",
   "id": "b81cfcfb",
   "metadata": {},
   "source": [
    "si se aplican operaciones aritmeticas sobre arrays que no tienen la misma forma(shape)NumPy aplica una propiedad que se denomina ##broadcasting"
   ]
  },
  {
   "cell_type": "code",
   "execution_count": 37,
   "id": "e572d414",
   "metadata": {},
   "outputs": [
    {
     "name": "stdout",
     "output_type": "stream",
     "text": [
      "shape arrayl:  (5,)\n",
      "array l  [0 1 2 3 4]\n",
      "\n",
      "shape array2:  (1,)\n",
      "array 2  [3]\n"
     ]
    }
   ],
   "source": [
    "#crecion de dos arrays unidedimencionales\n",
    "arrayl = np.arange(5)\n",
    "array2 = np.array([3])\n",
    "print(\"shape arrayl: \" , arrayl.shape)\n",
    "print(\"array l \", arrayl)\n",
    "print()\n",
    "print(\"shape array2: \" , array2.shape)\n",
    "print(\"array 2 \", array2)"
   ]
  },
  {
   "cell_type": "code",
   "execution_count": 38,
   "id": "42f776dd",
   "metadata": {},
   "outputs": [
    {
     "data": {
      "text/plain": [
       "array([3, 4, 5, 6, 7])"
      ]
     },
     "execution_count": 38,
     "metadata": {},
     "output_type": "execute_result"
    }
   ],
   "source": [
    "#suma de ambos arrays \n",
    "arrayl + array2"
   ]
  },
  {
   "cell_type": "code",
   "execution_count": 39,
   "id": "651f23d5",
   "metadata": {},
   "outputs": [
    {
     "name": "stdout",
     "output_type": "stream",
     "text": [
      "shape arrayl:  (2, 3)\n",
      "array l:\\ n [[0 1 2]\n",
      " [3 4 5]]\n",
      "\n",
      "shape array2:  (3,)\n",
      "array 2: \n",
      "  [ 6 10 14]\n"
     ]
    }
   ],
   "source": [
    "# crear dos arrays multidimencionales y unidimencionales\n",
    "arrayl = np.arange(6)\n",
    "arrayl.shape = (2,3)\n",
    "array2= np.arange(6,18,4)\n",
    "print(\"shape arrayl: \" , arrayl.shape)\n",
    "print(\"array l:\\ n\", arrayl)\n",
    "print()\n",
    "print(\"shape array2: \" , array2.shape)\n",
    "print(\"array 2: \\n \", array2)"
   ]
  },
  {
   "cell_type": "code",
   "execution_count": 40,
   "id": "bc19e39c",
   "metadata": {},
   "outputs": [
    {
     "data": {
      "text/plain": [
       "array([[ 6, 11, 16],\n",
       "       [ 9, 14, 19]])"
      ]
     },
     "execution_count": 40,
     "metadata": {},
     "output_type": "execute_result"
    }
   ],
   "source": [
    "# suma de arrays \n",
    "arrayl + array2"
   ]
  },
  {
   "cell_type": "markdown",
   "id": "527d8bae",
   "metadata": {},
   "source": [
    "## funciones estadisticas sobre arrays"
   ]
  },
  {
   "cell_type": "code",
   "execution_count": 41,
   "id": "6f377a48",
   "metadata": {},
   "outputs": [
    {
     "name": "stdout",
     "output_type": "stream",
     "text": [
      "array 1:\n",
      " [0 1 2 3 4 5 6 7 8 9]\n"
     ]
    }
   ],
   "source": [
    "# crear un aaray unidimencional\n",
    "arrayl = np.arange(10)\n",
    "print(\"array 1:\\n\", arrayl)"
   ]
  },
  {
   "cell_type": "code",
   "execution_count": 42,
   "id": "ed38ee00",
   "metadata": {},
   "outputs": [
    {
     "data": {
      "text/plain": [
       "4.5"
      ]
     },
     "execution_count": 42,
     "metadata": {},
     "output_type": "execute_result"
    }
   ],
   "source": [
    "#media de los elentos del array \n",
    "arrayl.mean()"
   ]
  },
  {
   "cell_type": "code",
   "execution_count": 43,
   "id": "db7c9f24",
   "metadata": {},
   "outputs": [
    {
     "data": {
      "text/plain": [
       "45"
      ]
     },
     "execution_count": 43,
     "metadata": {},
     "output_type": "execute_result"
    }
   ],
   "source": [
    "# suma de los elementos del array\n",
    "arrayl.sum()"
   ]
  },
  {
   "cell_type": "markdown",
   "id": "8742d220",
   "metadata": {},
   "source": [
    "funciones universales eficientes proporcionadas por numpy:ufunc"
   ]
  },
  {
   "cell_type": "code",
   "execution_count": 44,
   "id": "70af313c",
   "metadata": {},
   "outputs": [
    {
     "data": {
      "text/plain": [
       "array([ 0,  1,  4,  9, 16, 25, 36, 49, 64, 81])"
      ]
     },
     "execution_count": 44,
     "metadata": {},
     "output_type": "execute_result"
    }
   ],
   "source": [
    "#cuadrado de los elementos del array\n",
    "np.square(arrayl)"
   ]
  },
  {
   "cell_type": "code",
   "execution_count": 45,
   "id": "a2b30a4f",
   "metadata": {},
   "outputs": [
    {
     "data": {
      "text/plain": [
       "array([0.        , 1.        , 1.41421356, 1.73205081, 2.        ,\n",
       "       2.23606798, 2.44948974, 2.64575131, 2.82842712, 3.        ])"
      ]
     },
     "execution_count": 45,
     "metadata": {},
     "output_type": "execute_result"
    }
   ],
   "source": [
    "#raiz cuadrada de los elentos del array\n",
    "np.sqrt(arrayl)"
   ]
  },
  {
   "cell_type": "code",
   "execution_count": 47,
   "id": "726c99f1",
   "metadata": {},
   "outputs": [
    {
     "data": {
      "text/plain": [
       "array([1.00000000e+00, 2.71828183e+00, 7.38905610e+00, 2.00855369e+01,\n",
       "       5.45981500e+01, 1.48413159e+02, 4.03428793e+02, 1.09663316e+03,\n",
       "       2.98095799e+03, 8.10308393e+03])"
      ]
     },
     "execution_count": 47,
     "metadata": {},
     "output_type": "execute_result"
    }
   ],
   "source": [
    "# exptencial de los elementos de un array \n",
    "np.exp(arrayl)"
   ]
  },
  {
   "cell_type": "code",
   "execution_count": 48,
   "id": "d8c4dc4d",
   "metadata": {},
   "outputs": [
    {
     "name": "stderr",
     "output_type": "stream",
     "text": [
      "C:\\Users\\Pame\\AppData\\Local\\Temp\\ipykernel_6440\\264019093.py:1: RuntimeWarning: divide by zero encountered in log\n",
      "  np.log(arrayl)\n"
     ]
    },
    {
     "data": {
      "text/plain": [
       "array([      -inf, 0.        , 0.69314718, 1.09861229, 1.38629436,\n",
       "       1.60943791, 1.79175947, 1.94591015, 2.07944154, 2.19722458])"
      ]
     },
     "execution_count": 48,
     "metadata": {},
     "output_type": "execute_result"
    }
   ],
   "source": [
    "# log de los elementos de un array\n",
    "np.log(arrayl)"
   ]
  },
  {
   "cell_type": "code",
   "execution_count": null,
   "id": "b2a73feb",
   "metadata": {},
   "outputs": [],
   "source": []
  }
 ],
 "metadata": {
  "kernelspec": {
   "display_name": "Python 3 (ipykernel)",
   "language": "python",
   "name": "python3"
  },
  "language_info": {
   "codemirror_mode": {
    "name": "ipython",
    "version": 3
   },
   "file_extension": ".py",
   "mimetype": "text/x-python",
   "name": "python",
   "nbconvert_exporter": "python",
   "pygments_lexer": "ipython3",
   "version": "3.10.9"
  }
 },
 "nbformat": 4,
 "nbformat_minor": 5
}
